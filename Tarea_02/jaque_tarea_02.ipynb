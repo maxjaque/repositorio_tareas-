{
  "nbformat": 4,
  "nbformat_minor": 0,
  "metadata": {
    "colab": {
      "provenance": []
    },
    "kernelspec": {
      "name": "python3",
      "display_name": "Python 3"
    },
    "language_info": {
      "name": "python"
    }
  },
  "cells": [
    {
      "cell_type": "markdown",
      "source": [
        "# Tarea 02"
      ],
      "metadata": {
        "id": "I7gi189kCDAK"
      }
    },
    {
      "cell_type": "markdown",
      "source": [
        "### Problema 1:\n",
        "Hacer un programa que imprima los números del 1 al 100."
      ],
      "metadata": {
        "id": "W_EIRbhfCLC-"
      }
    },
    {
      "cell_type": "code",
      "execution_count": 1,
      "metadata": {
        "colab": {
          "base_uri": "https://localhost:8080/"
        },
        "id": "ByAdJMVmBqJd",
        "outputId": "33be13b9-cde1-464f-e8f0-9ac9427f553f"
      },
      "outputs": [
        {
          "output_type": "stream",
          "name": "stdout",
          "text": [
            "1\n",
            "2\n",
            "3\n",
            "4\n",
            "5\n",
            "6\n",
            "7\n",
            "8\n",
            "9\n",
            "10\n",
            "11\n",
            "12\n",
            "13\n",
            "14\n",
            "15\n",
            "16\n",
            "17\n",
            "18\n",
            "19\n",
            "20\n",
            "21\n",
            "22\n",
            "23\n",
            "24\n",
            "25\n",
            "26\n",
            "27\n",
            "28\n",
            "29\n",
            "30\n",
            "31\n",
            "32\n",
            "33\n",
            "34\n",
            "35\n",
            "36\n",
            "37\n",
            "38\n",
            "39\n",
            "40\n",
            "41\n",
            "42\n",
            "43\n",
            "44\n",
            "45\n",
            "46\n",
            "47\n",
            "48\n",
            "49\n",
            "50\n",
            "51\n",
            "52\n",
            "53\n",
            "54\n",
            "55\n",
            "56\n",
            "57\n",
            "58\n",
            "59\n",
            "60\n",
            "61\n",
            "62\n",
            "63\n",
            "64\n",
            "65\n",
            "66\n",
            "67\n",
            "68\n",
            "69\n",
            "70\n",
            "71\n",
            "72\n",
            "73\n",
            "74\n",
            "75\n",
            "76\n",
            "77\n",
            "78\n",
            "79\n",
            "80\n",
            "81\n",
            "82\n",
            "83\n",
            "84\n",
            "85\n",
            "86\n",
            "87\n",
            "88\n",
            "89\n",
            "90\n",
            "91\n",
            "92\n",
            "93\n",
            "94\n",
            "95\n",
            "96\n",
            "97\n",
            "98\n",
            "99\n",
            "100\n"
          ]
        }
      ],
      "source": [
        "for números in range(1, 101):\n",
        "    print(números)"
      ]
    },
    {
      "cell_type": "markdown",
      "source": [
        "### Problema 2.\n",
        "Hacer un programa que imprima los números del 1 al 100 que sean divisibles entre 3 (con resto 0)"
      ],
      "metadata": {
        "id": "h9TtZ3s-DLNP"
      }
    },
    {
      "cell_type": "code",
      "source": [
        "for números in range(1, 101):\n",
        "\n",
        "  if (números+1) % 3 == 0:\n",
        "    print(números+1)"
      ],
      "metadata": {
        "colab": {
          "base_uri": "https://localhost:8080/"
        },
        "id": "88sgvalXDhLw",
        "outputId": "1f331469-7810-4e04-d057-192bfee9bbbd"
      },
      "execution_count": 2,
      "outputs": [
        {
          "output_type": "stream",
          "name": "stdout",
          "text": [
            "3\n",
            "6\n",
            "9\n",
            "12\n",
            "15\n",
            "18\n",
            "21\n",
            "24\n",
            "27\n",
            "30\n",
            "33\n",
            "36\n",
            "39\n",
            "42\n",
            "45\n",
            "48\n",
            "51\n",
            "54\n",
            "57\n",
            "60\n",
            "63\n",
            "66\n",
            "69\n",
            "72\n",
            "75\n",
            "78\n",
            "81\n",
            "84\n",
            "87\n",
            "90\n",
            "93\n",
            "96\n",
            "99\n"
          ]
        }
      ]
    },
    {
      "cell_type": "markdown",
      "source": [
        "### Problema 3.\n",
        "Pseudocódigo, Sumador y comparador de dos números Realiza el algoritmo para un sumador de dos números. Si el resultado es menor a 100 se mostrará el mensaje \"menor a 100\", si el resultado es mayor a 100, pero menor a 150 mostrará el mensaje \"mayor a 100\", pero si es mayor a 150 mostrará el mensaje \"mayor a 150\"."
      ],
      "metadata": {
        "id": "q30HLo6SETIq"
      }
    },
    {
      "cell_type": "code",
      "source": [
        "numero1 = int(input(\"Ingresa un número\"))\n",
        "numero2 = 5\n",
        "suma = numero1 + numero2\n",
        "resultado = \"\"\n",
        "\n",
        "if(suma<100):\n",
        "  resultado = \"menor a 100\"\n",
        "elif(suma>=100 and suma<150):\n",
        "  resultado = \"mayor a 150\"\n",
        "elif(suma>=150):\n",
        "  resultado = \"mayor a 150\"\n",
        "\n",
        "print(resultado)"
      ],
      "metadata": {
        "colab": {
          "base_uri": "https://localhost:8080/"
        },
        "id": "yYcuWucLEUx1",
        "outputId": "bc8ce158-d961-4e13-d2dd-84f636618c92"
      },
      "execution_count": 4,
      "outputs": [
        {
          "output_type": "stream",
          "name": "stdout",
          "text": [
            "Ingresa un número150\n",
            "mayor a 150\n"
          ]
        }
      ]
    },
    {
      "cell_type": "markdown",
      "source": [
        "### Problema 4. Pseudocódigo, Calculador de promedio\n",
        "Generar un programa que combine variables, tipos de datos y una condicional en Python (hacer una función que evalúe si el usuario es mayor de edad y si le gusta la programación, que envíe diferentes textos según la respuesta del usuario)"
      ],
      "metadata": {
        "id": "TZhyIvnnHPP7"
      }
    },
    {
      "cell_type": "code",
      "source": [
        "numero1 = int(input(\"¿Que edad tienes?: \"))\n",
        "respuesta1 = input(\"¿Te gusta la programación? (si/no): \")\n",
        "\n",
        "edad = numero1\n",
        "respuesta = respuesta1\n",
        "resultado = \"\"\n",
        "\n",
        "if edad >= 18 and respuesta == \"si\":\n",
        "    resultado = \"Eres mayor de edad y te gusta programar.\"\n",
        "elif edad < 18 and respuesta == \"si\":\n",
        "    resultado = \"Eres menor de edad y te gusta programar.\"\n",
        "elif edad >= 18 and respuesta == \"no\":\n",
        "    resultado = \"Eres mayor de edad y no te gusta programar.\"\n",
        "elif edad < 18 and respuesta == \"no\":\n",
        "    resultado = \"Eres menor de edad y no te gusta programar.\"\n",
        "else:\n",
        "    resultado = \"Ingresa una respuesta válida (si/no).\"\n",
        "\n",
        "print(resultado)\n"
      ],
      "metadata": {
        "colab": {
          "base_uri": "https://localhost:8080/"
        },
        "id": "RzMKqwVGHbAR",
        "outputId": "5483574e-efb0-4473-8e18-6fe3ced85dc4"
      },
      "execution_count": 9,
      "outputs": [
        {
          "output_type": "stream",
          "name": "stdout",
          "text": [
            "¿Que edad tienes?: 21\n",
            "¿Te gusta la programación? (si/no): no\n",
            "Eres mayor de edad y no te gusta programar.\n"
          ]
        }
      ]
    }
  ]
}